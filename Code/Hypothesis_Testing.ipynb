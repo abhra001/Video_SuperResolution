{
 "cells": [
  {
   "cell_type": "code",
   "execution_count": 1,
   "id": "4aabb924",
   "metadata": {},
   "outputs": [],
   "source": [
    "import numpy as np\n",
    "import pandas as pd\n",
    "from scipy.stats import ttest_rel\n",
    "import matplotlib.pyplot as plt"
   ]
  },
  {
   "cell_type": "code",
   "execution_count": 2,
   "id": "9c2fb566",
   "metadata": {},
   "outputs": [
    {
     "data": {
      "text/html": [
       "<div>\n",
       "<style scoped>\n",
       "    .dataframe tbody tr th:only-of-type {\n",
       "        vertical-align: middle;\n",
       "    }\n",
       "\n",
       "    .dataframe tbody tr th {\n",
       "        vertical-align: top;\n",
       "    }\n",
       "\n",
       "    .dataframe thead th {\n",
       "        text-align: right;\n",
       "    }\n",
       "</style>\n",
       "<table border=\"1\" class=\"dataframe\">\n",
       "  <thead>\n",
       "    <tr style=\"text-align: right;\">\n",
       "      <th></th>\n",
       "      <th>Scene</th>\n",
       "      <th>PSNR_MSE</th>\n",
       "      <th>SSIM_MSE</th>\n",
       "      <th>B_PSNR</th>\n",
       "      <th>B_SSIM</th>\n",
       "      <th>PSNR_VGG</th>\n",
       "      <th>SSIM_VGG</th>\n",
       "      <th>PSNR_Motion</th>\n",
       "      <th>SSIM_Motion</th>\n",
       "      <th>PSNR_Fusion</th>\n",
       "      <th>SSIM_Fusion</th>\n",
       "    </tr>\n",
       "  </thead>\n",
       "  <tbody>\n",
       "    <tr>\n",
       "      <th>0</th>\n",
       "      <td>3</td>\n",
       "      <td>28.4500</td>\n",
       "      <td>0.9989</td>\n",
       "      <td>28.0933</td>\n",
       "      <td>0.9987</td>\n",
       "      <td>28.0837</td>\n",
       "      <td>0.9963</td>\n",
       "      <td>27.3566</td>\n",
       "      <td>0.9738</td>\n",
       "      <td>27.6745</td>\n",
       "      <td>0.9825</td>\n",
       "    </tr>\n",
       "    <tr>\n",
       "      <th>1</th>\n",
       "      <td>5</td>\n",
       "      <td>31.1180</td>\n",
       "      <td>0.9483</td>\n",
       "      <td>26.8500</td>\n",
       "      <td>0.9549</td>\n",
       "      <td>30.2885</td>\n",
       "      <td>0.9328</td>\n",
       "      <td>28.8743</td>\n",
       "      <td>0.9248</td>\n",
       "      <td>26.6583</td>\n",
       "      <td>0.9262</td>\n",
       "    </tr>\n",
       "    <tr>\n",
       "      <th>2</th>\n",
       "      <td>6</td>\n",
       "      <td>35.4428</td>\n",
       "      <td>0.9656</td>\n",
       "      <td>31.9896</td>\n",
       "      <td>1.0065</td>\n",
       "      <td>34.2663</td>\n",
       "      <td>0.9423</td>\n",
       "      <td>33.4263</td>\n",
       "      <td>0.9085</td>\n",
       "      <td>27.6428</td>\n",
       "      <td>0.9238</td>\n",
       "    </tr>\n",
       "    <tr>\n",
       "      <th>3</th>\n",
       "      <td>8</td>\n",
       "      <td>32.3962</td>\n",
       "      <td>0.9463</td>\n",
       "      <td>28.8940</td>\n",
       "      <td>0.9503</td>\n",
       "      <td>30.1085</td>\n",
       "      <td>0.9436</td>\n",
       "      <td>27.6433</td>\n",
       "      <td>0.9286</td>\n",
       "      <td>26.8735</td>\n",
       "      <td>0.9326</td>\n",
       "    </tr>\n",
       "    <tr>\n",
       "      <th>4</th>\n",
       "      <td>13</td>\n",
       "      <td>36.8600</td>\n",
       "      <td>0.9367</td>\n",
       "      <td>32.5000</td>\n",
       "      <td>0.9497</td>\n",
       "      <td>28.8374</td>\n",
       "      <td>0.9267</td>\n",
       "      <td>27.5427</td>\n",
       "      <td>0.9228</td>\n",
       "      <td>33.8436</td>\n",
       "      <td>0.9448</td>\n",
       "    </tr>\n",
       "    <tr>\n",
       "      <th>5</th>\n",
       "      <td>15</td>\n",
       "      <td>40.5662</td>\n",
       "      <td>0.9979</td>\n",
       "      <td>43.0308</td>\n",
       "      <td>0.9993</td>\n",
       "      <td>38.9274</td>\n",
       "      <td>0.9863</td>\n",
       "      <td>36.7456</td>\n",
       "      <td>0.9784</td>\n",
       "      <td>36.3462</td>\n",
       "      <td>0.9872</td>\n",
       "    </tr>\n",
       "    <tr>\n",
       "      <th>6</th>\n",
       "      <td>18</td>\n",
       "      <td>39.3400</td>\n",
       "      <td>0.9992</td>\n",
       "      <td>39.9800</td>\n",
       "      <td>0.9993</td>\n",
       "      <td>37.2738</td>\n",
       "      <td>0.9992</td>\n",
       "      <td>36.2837</td>\n",
       "      <td>0.9832</td>\n",
       "      <td>37.6427</td>\n",
       "      <td>0.9808</td>\n",
       "    </tr>\n",
       "    <tr>\n",
       "      <th>7</th>\n",
       "      <td>21</td>\n",
       "      <td>38.8847</td>\n",
       "      <td>0.9981</td>\n",
       "      <td>44.9189</td>\n",
       "      <td>0.9997</td>\n",
       "      <td>37.9274</td>\n",
       "      <td>0.9982</td>\n",
       "      <td>35.7634</td>\n",
       "      <td>0.9974</td>\n",
       "      <td>34.4879</td>\n",
       "      <td>0.9965</td>\n",
       "    </tr>\n",
       "    <tr>\n",
       "      <th>8</th>\n",
       "      <td>23</td>\n",
       "      <td>37.5015</td>\n",
       "      <td>0.9969</td>\n",
       "      <td>40.3283</td>\n",
       "      <td>0.9994</td>\n",
       "      <td>36.9284</td>\n",
       "      <td>0.9942</td>\n",
       "      <td>34.4567</td>\n",
       "      <td>0.9942</td>\n",
       "      <td>31.6742</td>\n",
       "      <td>0.9938</td>\n",
       "    </tr>\n",
       "    <tr>\n",
       "      <th>9</th>\n",
       "      <td>24</td>\n",
       "      <td>38.3941</td>\n",
       "      <td>0.9977</td>\n",
       "      <td>40.0921</td>\n",
       "      <td>0.9994</td>\n",
       "      <td>34.9346</td>\n",
       "      <td>0.9923</td>\n",
       "      <td>31.2347</td>\n",
       "      <td>0.9901</td>\n",
       "      <td>32.4623</td>\n",
       "      <td>0.9925</td>\n",
       "    </tr>\n",
       "    <tr>\n",
       "      <th>10</th>\n",
       "      <td>25</td>\n",
       "      <td>36.4263</td>\n",
       "      <td>0.9986</td>\n",
       "      <td>36.0240</td>\n",
       "      <td>0.9991</td>\n",
       "      <td>36.7263</td>\n",
       "      <td>0.9985</td>\n",
       "      <td>35.3476</td>\n",
       "      <td>0.9725</td>\n",
       "      <td>33.7842</td>\n",
       "      <td>0.9889</td>\n",
       "    </tr>\n",
       "    <tr>\n",
       "      <th>11</th>\n",
       "      <td>27</td>\n",
       "      <td>35.6440</td>\n",
       "      <td>0.9983</td>\n",
       "      <td>35.3954</td>\n",
       "      <td>0.9990</td>\n",
       "      <td>33.2738</td>\n",
       "      <td>0.9980</td>\n",
       "      <td>30.3567</td>\n",
       "      <td>0.9782</td>\n",
       "      <td>31.3625</td>\n",
       "      <td>0.9825</td>\n",
       "    </tr>\n",
       "    <tr>\n",
       "      <th>12</th>\n",
       "      <td>28</td>\n",
       "      <td>37.2859</td>\n",
       "      <td>0.9980</td>\n",
       "      <td>43.3563</td>\n",
       "      <td>0.9999</td>\n",
       "      <td>34.0189</td>\n",
       "      <td>0.9980</td>\n",
       "      <td>32.7653</td>\n",
       "      <td>0.9878</td>\n",
       "      <td>36.6735</td>\n",
       "      <td>0.9978</td>\n",
       "    </tr>\n",
       "    <tr>\n",
       "      <th>13</th>\n",
       "      <td>30</td>\n",
       "      <td>38.3895</td>\n",
       "      <td>0.9989</td>\n",
       "      <td>43.0632</td>\n",
       "      <td>0.9999</td>\n",
       "      <td>33.6373</td>\n",
       "      <td>0.9989</td>\n",
       "      <td>31.4878</td>\n",
       "      <td>0.9834</td>\n",
       "      <td>37.8374</td>\n",
       "      <td>0.9982</td>\n",
       "    </tr>\n",
       "    <tr>\n",
       "      <th>14</th>\n",
       "      <td>33</td>\n",
       "      <td>35.2863</td>\n",
       "      <td>0.9991</td>\n",
       "      <td>35.2885</td>\n",
       "      <td>0.9993</td>\n",
       "      <td>36.2639</td>\n",
       "      <td>0.9987</td>\n",
       "      <td>34.1237</td>\n",
       "      <td>0.9913</td>\n",
       "      <td>37.7246</td>\n",
       "      <td>0.9973</td>\n",
       "    </tr>\n",
       "    <tr>\n",
       "      <th>15</th>\n",
       "      <td>35</td>\n",
       "      <td>33.2656</td>\n",
       "      <td>0.9843</td>\n",
       "      <td>38.2353</td>\n",
       "      <td>0.9901</td>\n",
       "      <td>34.5384</td>\n",
       "      <td>0.9745</td>\n",
       "      <td>28.2745</td>\n",
       "      <td>0.9463</td>\n",
       "      <td>34.8724</td>\n",
       "      <td>0.9747</td>\n",
       "    </tr>\n",
       "    <tr>\n",
       "      <th>16</th>\n",
       "      <td>36</td>\n",
       "      <td>37.2363</td>\n",
       "      <td>0.9989</td>\n",
       "      <td>36.2583</td>\n",
       "      <td>0.9987</td>\n",
       "      <td>30.7838</td>\n",
       "      <td>0.9762</td>\n",
       "      <td>29.1673</td>\n",
       "      <td>0.9698</td>\n",
       "      <td>33.4273</td>\n",
       "      <td>0.9783</td>\n",
       "    </tr>\n",
       "    <tr>\n",
       "      <th>17</th>\n",
       "      <td>37</td>\n",
       "      <td>37.5965</td>\n",
       "      <td>0.9979</td>\n",
       "      <td>43.2195</td>\n",
       "      <td>0.9995</td>\n",
       "      <td>31.7346</td>\n",
       "      <td>0.9873</td>\n",
       "      <td>28.5443</td>\n",
       "      <td>0.9783</td>\n",
       "      <td>36.2461</td>\n",
       "      <td>0.9845</td>\n",
       "    </tr>\n",
       "    <tr>\n",
       "      <th>18</th>\n",
       "      <td>40</td>\n",
       "      <td>31.1959</td>\n",
       "      <td>0.9991</td>\n",
       "      <td>31.3232</td>\n",
       "      <td>0.9995</td>\n",
       "      <td>34.2637</td>\n",
       "      <td>0.9982</td>\n",
       "      <td>30.2651</td>\n",
       "      <td>0.9818</td>\n",
       "      <td>32.6713</td>\n",
       "      <td>0.9985</td>\n",
       "    </tr>\n",
       "    <tr>\n",
       "      <th>19</th>\n",
       "      <td>46</td>\n",
       "      <td>36.2735</td>\n",
       "      <td>0.9982</td>\n",
       "      <td>38.9583</td>\n",
       "      <td>0.9999</td>\n",
       "      <td>29.8278</td>\n",
       "      <td>0.9941</td>\n",
       "      <td>30.6527</td>\n",
       "      <td>0.9961</td>\n",
       "      <td>31.8724</td>\n",
       "      <td>0.9893</td>\n",
       "    </tr>\n",
       "    <tr>\n",
       "      <th>20</th>\n",
       "      <td>48</td>\n",
       "      <td>38.2923</td>\n",
       "      <td>0.9997</td>\n",
       "      <td>41.6228</td>\n",
       "      <td>0.9999</td>\n",
       "      <td>29.2163</td>\n",
       "      <td>0.9943</td>\n",
       "      <td>30.7635</td>\n",
       "      <td>0.9902</td>\n",
       "      <td>34.3527</td>\n",
       "      <td>0.9996</td>\n",
       "    </tr>\n",
       "    <tr>\n",
       "      <th>21</th>\n",
       "      <td>49</td>\n",
       "      <td>31.4863</td>\n",
       "      <td>0.9990</td>\n",
       "      <td>31.5521</td>\n",
       "      <td>0.9992</td>\n",
       "      <td>35.5952</td>\n",
       "      <td>0.9972</td>\n",
       "      <td>27.1462</td>\n",
       "      <td>0.9828</td>\n",
       "      <td>29.3486</td>\n",
       "      <td>0.9937</td>\n",
       "    </tr>\n",
       "    <tr>\n",
       "      <th>22</th>\n",
       "      <td>54</td>\n",
       "      <td>32.0645</td>\n",
       "      <td>0.9779</td>\n",
       "      <td>31.4235</td>\n",
       "      <td>0.9811</td>\n",
       "      <td>32.2848</td>\n",
       "      <td>0.9824</td>\n",
       "      <td>29.8753</td>\n",
       "      <td>0.9765</td>\n",
       "      <td>32.0963</td>\n",
       "      <td>0.9864</td>\n",
       "    </tr>\n",
       "    <tr>\n",
       "      <th>23</th>\n",
       "      <td>56</td>\n",
       "      <td>29.2665</td>\n",
       "      <td>0.9991</td>\n",
       "      <td>28.7967</td>\n",
       "      <td>0.9992</td>\n",
       "      <td>27.9333</td>\n",
       "      <td>0.9973</td>\n",
       "      <td>26.5624</td>\n",
       "      <td>0.9824</td>\n",
       "      <td>29.1832</td>\n",
       "      <td>0.9982</td>\n",
       "    </tr>\n",
       "    <tr>\n",
       "      <th>24</th>\n",
       "      <td>63</td>\n",
       "      <td>28.6862</td>\n",
       "      <td>0.9763</td>\n",
       "      <td>28.6783</td>\n",
       "      <td>0.9779</td>\n",
       "      <td>33.6668</td>\n",
       "      <td>0.9827</td>\n",
       "      <td>24.6365</td>\n",
       "      <td>0.9663</td>\n",
       "      <td>31.5634</td>\n",
       "      <td>0.9798</td>\n",
       "    </tr>\n",
       "  </tbody>\n",
       "</table>\n",
       "</div>"
      ],
      "text/plain": [
       "    Scene  PSNR_MSE  SSIM_MSE   B_PSNR  B_SSIM  PSNR_VGG  SSIM_VGG  \\\n",
       "0       3   28.4500    0.9989  28.0933  0.9987   28.0837    0.9963   \n",
       "1       5   31.1180    0.9483  26.8500  0.9549   30.2885    0.9328   \n",
       "2       6   35.4428    0.9656  31.9896  1.0065   34.2663    0.9423   \n",
       "3       8   32.3962    0.9463  28.8940  0.9503   30.1085    0.9436   \n",
       "4      13   36.8600    0.9367  32.5000  0.9497   28.8374    0.9267   \n",
       "5      15   40.5662    0.9979  43.0308  0.9993   38.9274    0.9863   \n",
       "6      18   39.3400    0.9992  39.9800  0.9993   37.2738    0.9992   \n",
       "7      21   38.8847    0.9981  44.9189  0.9997   37.9274    0.9982   \n",
       "8      23   37.5015    0.9969  40.3283  0.9994   36.9284    0.9942   \n",
       "9      24   38.3941    0.9977  40.0921  0.9994   34.9346    0.9923   \n",
       "10     25   36.4263    0.9986  36.0240  0.9991   36.7263    0.9985   \n",
       "11     27   35.6440    0.9983  35.3954  0.9990   33.2738    0.9980   \n",
       "12     28   37.2859    0.9980  43.3563  0.9999   34.0189    0.9980   \n",
       "13     30   38.3895    0.9989  43.0632  0.9999   33.6373    0.9989   \n",
       "14     33   35.2863    0.9991  35.2885  0.9993   36.2639    0.9987   \n",
       "15     35   33.2656    0.9843  38.2353  0.9901   34.5384    0.9745   \n",
       "16     36   37.2363    0.9989  36.2583  0.9987   30.7838    0.9762   \n",
       "17     37   37.5965    0.9979  43.2195  0.9995   31.7346    0.9873   \n",
       "18     40   31.1959    0.9991  31.3232  0.9995   34.2637    0.9982   \n",
       "19     46   36.2735    0.9982  38.9583  0.9999   29.8278    0.9941   \n",
       "20     48   38.2923    0.9997  41.6228  0.9999   29.2163    0.9943   \n",
       "21     49   31.4863    0.9990  31.5521  0.9992   35.5952    0.9972   \n",
       "22     54   32.0645    0.9779  31.4235  0.9811   32.2848    0.9824   \n",
       "23     56   29.2665    0.9991  28.7967  0.9992   27.9333    0.9973   \n",
       "24     63   28.6862    0.9763  28.6783  0.9779   33.6668    0.9827   \n",
       "\n",
       "    PSNR_Motion  SSIM_Motion  PSNR_Fusion  SSIM_Fusion  \n",
       "0       27.3566       0.9738      27.6745       0.9825  \n",
       "1       28.8743       0.9248      26.6583       0.9262  \n",
       "2       33.4263       0.9085      27.6428       0.9238  \n",
       "3       27.6433       0.9286      26.8735       0.9326  \n",
       "4       27.5427       0.9228      33.8436       0.9448  \n",
       "5       36.7456       0.9784      36.3462       0.9872  \n",
       "6       36.2837       0.9832      37.6427       0.9808  \n",
       "7       35.7634       0.9974      34.4879       0.9965  \n",
       "8       34.4567       0.9942      31.6742       0.9938  \n",
       "9       31.2347       0.9901      32.4623       0.9925  \n",
       "10      35.3476       0.9725      33.7842       0.9889  \n",
       "11      30.3567       0.9782      31.3625       0.9825  \n",
       "12      32.7653       0.9878      36.6735       0.9978  \n",
       "13      31.4878       0.9834      37.8374       0.9982  \n",
       "14      34.1237       0.9913      37.7246       0.9973  \n",
       "15      28.2745       0.9463      34.8724       0.9747  \n",
       "16      29.1673       0.9698      33.4273       0.9783  \n",
       "17      28.5443       0.9783      36.2461       0.9845  \n",
       "18      30.2651       0.9818      32.6713       0.9985  \n",
       "19      30.6527       0.9961      31.8724       0.9893  \n",
       "20      30.7635       0.9902      34.3527       0.9996  \n",
       "21      27.1462       0.9828      29.3486       0.9937  \n",
       "22      29.8753       0.9765      32.0963       0.9864  \n",
       "23      26.5624       0.9824      29.1832       0.9982  \n",
       "24      24.6365       0.9663      31.5634       0.9798  "
      ]
     },
     "execution_count": 2,
     "metadata": {},
     "output_type": "execute_result"
    }
   ],
   "source": [
    "results = pd.read_csv('./CV_Results.csv')\n",
    "results"
   ]
  },
  {
   "cell_type": "code",
   "execution_count": 3,
   "id": "a3d805bc",
   "metadata": {},
   "outputs": [
    {
     "data": {
      "text/plain": [
       "Text(0.5, 0, 'PSNR')"
      ]
     },
     "execution_count": 3,
     "metadata": {},
     "output_type": "execute_result"
    },
    {
     "data": {
      "image/png": "[encoded data removed]",
      "text/plain": [
       "<Figure size 432x288 with 1 Axes>"
      ]
     },
     "metadata": {
      "needs_background": "light"
     },
     "output_type": "display_data"
    }
   ],
   "source": [
    "plt.hist(results[\"PSNR_MSE\"], bins=8)\n",
    "plt.ylabel(\"Frequency\")\n",
    "plt.xlabel(\"PSNR\")"
   ]
  },
  {
   "cell_type": "markdown",
   "id": "c27d22be",
   "metadata": {},
   "source": [
    "### Experiment 1a"
   ]
  },
  {
   "cell_type": "code",
   "execution_count": 4,
   "id": "12dcecc6",
   "metadata": {},
   "outputs": [
    {
     "data": {
      "text/plain": [
       "Text(0.5, 1.0, 'Modified Network w MSE')"
      ]
     },
     "execution_count": 4,
     "metadata": {},
     "output_type": "execute_result"
    },
    {
     "data": {
      "image/png": "[encoded data removed]",
      "text/plain": [
       "<Figure size 432x288 with 1 Axes>"
      ]
     },
     "metadata": {
      "needs_background": "light"
     },
     "output_type": "display_data"
    }
   ],
   "source": [
    "plt.scatter(results[\"B_PSNR\"],results[\"PSNR_MSE\"])\n",
    "plt.axline((25, 25), slope=1, color='r')\n",
    "plt.xlabel(\"Baseline PSNR\")\n",
    "plt.ylabel(\"Our PSNR\")\n",
    "plt.title(\"Modified Network w MSE\")"
   ]
  },
  {
   "cell_type": "code",
   "execution_count": 5,
   "id": "c749a023",
   "metadata": {},
   "outputs": [],
   "source": [
    "# # Collect data into two separate arrays\n",
    "# base = np.array(results[\"B_PSNR\"])\n",
    "# new = np.array(results[\"PSNR_MSE\"])\n",
    "\n",
    "# # Calculate t-statistic and p-value\n",
    "# alpha = 0.05\n",
    "# t, pval = ttest_rel(base, new,alternative = 'less')\n",
    "\n",
    "# if pval < alpha:\n",
    "#     print(\"p value = \", pval, \"\\nNull Hypothesis Rejected. New Method is better\")\n",
    "# else: \n",
    "#     print(\"p value = \", pval, \"\\nNull Hypothesis cannot be rejected. New method is not conclusively better\")"
   ]
  },
  {
   "cell_type": "code",
   "execution_count": 16,
   "id": "2c13dbf0",
   "metadata": {},
   "outputs": [
    {
     "data": {
      "text/plain": [
       "<matplotlib.legend.Legend at 0x20857347a90>"
      ]
     },
     "execution_count": 16,
     "metadata": {},
     "output_type": "execute_result"
    },
    {
     "data": {
      "image/png": "[encoded data removed]",
      "text/plain": [
       "<Figure size 432x288 with 1 Axes>"
      ]
     },
     "metadata": {
      "needs_background": "light"
     },
     "output_type": "display_data"
    }
   ],
   "source": [
    "means_mse=[]\n",
    "means_base=[]\n",
    "for i in range(50): \n",
    "\n",
    "    mask=np.random.choice(24, 12)\n",
    "    means_mse+=[np.mean(np.array(results[\"PSNR_MSE\"])[mask])]\n",
    "    means_base+=[np.mean(np.array(results[\"B_PSNR\"])[mask])]\n",
    "\n",
    "plt.hist(means_base, bins=8, label=\"Baseline\")\n",
    "plt.hist(means_mse, bins=8, label=\"SRCNN_MSE\")\n",
    "plt.ylabel(\"Frequency\")\n",
    "plt.xlabel(\"PSNR\")\n",
    "plt.legend()"
   ]
  },
  {
   "cell_type": "code",
   "execution_count": 17,
   "id": "844a144c",
   "metadata": {},
   "outputs": [
    {
     "name": "stdout",
     "output_type": "stream",
     "text": [
      "p value =  0.9999999788090946 \n",
      "Null Hypothesis cannot be rejected. New method is not conclusively better\n"
     ]
    }
   ],
   "source": [
    "# Calculate t-statistic and p-value\n",
    "\n",
    "alpha = 0.05\n",
    "t, pval = ttest_rel(means_base, means_mse,alternative = 'less')\n",
    "if pval < alpha:\n",
    "    print(\"p value = \", pval, \"\\nNull Hypothesis Rejected. New Method is better\")\n",
    "else: \n",
    "    print(\"p value = \", pval, \"\\nNull Hypothesis cannot be rejected. New method is not conclusively better\")"
   ]
  },
  {
   "cell_type": "markdown",
   "id": "30d73216",
   "metadata": {},
   "source": [
    "### Experiment 1b"
   ]
  },
  {
   "cell_type": "code",
   "execution_count": 18,
   "id": "672fc3cc",
   "metadata": {},
   "outputs": [
    {
     "data": {
      "text/plain": [
       "Text(0.5, 1.0, 'Modified Network w VGG Loss')"
      ]
     },
     "execution_count": 18,
     "metadata": {},
     "output_type": "execute_result"
    },
    {
     "data": {
      "image/png": "[encoded data removed]",
      "text/plain": [
       "<Figure size 432x288 with 1 Axes>"
      ]
     },
     "metadata": {
      "needs_background": "light"
     },
     "output_type": "display_data"
    }
   ],
   "source": [
    "plt.scatter(results[\"B_PSNR\"],results[\"PSNR_VGG\"])\n",
    "plt.axline((25, 25), slope=1, color='r')\n",
    "plt.xlabel(\"Baseline PSNR\")\n",
    "plt.ylabel(\"Our PSNR\")\n",
    "plt.title(\"Modified Network w VGG Loss\")"
   ]
  },
  {
   "cell_type": "code",
   "execution_count": 70,
   "id": "bb215601",
   "metadata": {},
   "outputs": [
    {
     "data": {
      "text/plain": [
       "<matplotlib.legend.Legend at 0x2085af7fd60>"
      ]
     },
     "execution_count": 70,
     "metadata": {},
     "output_type": "execute_result"
    },
    {
     "data": {
      "image/png": "[encoded data removed]",
      "text/plain": [
       "<Figure size 432x288 with 1 Axes>"
      ]
     },
     "metadata": {
      "needs_background": "light"
     },
     "output_type": "display_data"
    }
   ],
   "source": [
    "means_vgg=[]\n",
    "means_base=[]\n",
    "for i in range(50): \n",
    "\n",
    "    mask=np.random.choice(24, 12)\n",
    "    means_vgg+=[np.mean(np.array(results[\"PSNR_VGG\"])[mask])]\n",
    "    means_base+=[np.mean(np.array(results[\"B_PSNR\"])[mask])]\n",
    "\n",
    "plt.hist(means_base, bins=8, label=\"Baseline\")\n",
    "plt.hist(means_vgg, bins=8, label=\"SRCNN_VGG\")\n",
    "plt.ylabel(\"Frequency\")\n",
    "plt.xlabel(\"PSNR\")\n",
    "plt.legend()"
   ]
  },
  {
   "cell_type": "code",
   "execution_count": 71,
   "id": "18b34196",
   "metadata": {},
   "outputs": [
    {
     "name": "stdout",
     "output_type": "stream",
     "text": [
      "p value =  1.0 \n",
      "Null Hypothesis cannot be rejected. New method is not conclusively better\n"
     ]
    }
   ],
   "source": [
    "# Calculate t-statistic and p-value\n",
    "\n",
    "alpha = 0.05\n",
    "t, pval = ttest_rel(means_base, means_vgg,alternative = 'less')\n",
    "if pval < alpha:\n",
    "    print(\"p value = \", pval, \"\\nNull Hypothesis Rejected. New Method is better\")\n",
    "else: \n",
    "    print(\"p value = \", pval, \"\\nNull Hypothesis cannot be rejected. New method is not conclusively better\")"
   ]
  },
  {
   "cell_type": "markdown",
   "id": "7d9020c8",
   "metadata": {},
   "source": [
    "### Experiment 1c"
   ]
  },
  {
   "cell_type": "code",
   "execution_count": 72,
   "id": "30aa3ccf",
   "metadata": {},
   "outputs": [
    {
     "data": {
      "text/plain": [
       "Text(0.5, 1.0, 'Modified Network w Motion-Aware Loss')"
      ]
     },
     "execution_count": 72,
     "metadata": {},
     "output_type": "execute_result"
    },
    {
     "data": {
      "image/png": "[encoded data removed]",
      "text/plain": [
       "<Figure size 432x288 with 1 Axes>"
      ]
     },
     "metadata": {
      "needs_background": "light"
     },
     "output_type": "display_data"
    }
   ],
   "source": [
    "plt.scatter(results[\"B_PSNR\"],results[\"PSNR_Motion\"])\n",
    "plt.axline((25, 25), slope=1, color='r')\n",
    "plt.xlabel(\"Baseline PSNR\")\n",
    "plt.ylabel(\"Our PSNR\")\n",
    "plt.title(\"Modified Network w Motion-Aware Loss\")"
   ]
  },
  {
   "cell_type": "code",
   "execution_count": 74,
   "id": "b5fc65cf",
   "metadata": {},
   "outputs": [
    {
     "data": {
      "text/plain": [
       "<matplotlib.legend.Legend at 0x2085c0e7640>"
      ]
     },
     "execution_count": 74,
     "metadata": {},
     "output_type": "execute_result"
    },
    {
     "data": {
      "image/png": "[encoded data removed]",
      "text/plain": [
       "<Figure size 432x288 with 1 Axes>"
      ]
     },
     "metadata": {
      "needs_background": "light"
     },
     "output_type": "display_data"
    }
   ],
   "source": [
    "means_motion=[]\n",
    "means_base=[]\n",
    "for i in range(50): \n",
    "\n",
    "    mask=np.random.choice(24, 12)\n",
    "    means_motion+=[np.mean(np.array(results[\"PSNR_Motion\"])[mask])]\n",
    "    means_base+=[np.mean(np.array(results[\"B_PSNR\"])[mask])]\n",
    "\n",
    "plt.hist(means_base, bins=8, label=\"Baseline\")\n",
    "plt.hist(means_motion, bins=8, label=\"SRCNN_Motion\")\n",
    "plt.ylabel(\"Frequency\")\n",
    "plt.xlabel(\"PSNR\")\n",
    "plt.legend()"
   ]
  },
  {
   "cell_type": "code",
   "execution_count": 75,
   "id": "d4f63722",
   "metadata": {},
   "outputs": [
    {
     "name": "stdout",
     "output_type": "stream",
     "text": [
      "p value =  1.0 \n",
      "Null Hypothesis cannot be rejected. New method is not conclusively better\n"
     ]
    }
   ],
   "source": [
    "# Calculate t-statistic and p-value\n",
    "\n",
    "alpha = 0.05\n",
    "t, pval = ttest_rel(means_base, means_motion,alternative = 'less')\n",
    "if pval < alpha:\n",
    "    print(\"p value = \", pval, \"\\nNull Hypothesis Rejected. New Method is better\")\n",
    "else: \n",
    "    print(\"p value = \", pval, \"\\nNull Hypothesis cannot be rejected. New method is not conclusively better\")"
   ]
  },
  {
   "cell_type": "markdown",
   "id": "c8653c7f",
   "metadata": {},
   "source": [
    "### Experiment 2"
   ]
  },
  {
   "cell_type": "code",
   "execution_count": 76,
   "id": "5c4e999b",
   "metadata": {},
   "outputs": [
    {
     "data": {
      "text/plain": [
       "Text(0, 0.5, 'Image Fusion PSNR')"
      ]
     },
     "execution_count": 76,
     "metadata": {},
     "output_type": "execute_result"
    },
    {
     "data": {
      "image/png": "[encoded data removed]",
      "text/plain": [
       "<Figure size 432x288 with 1 Axes>"
      ]
     },
     "metadata": {
      "needs_background": "light"
     },
     "output_type": "display_data"
    }
   ],
   "source": [
    "plt.scatter(results[\"B_PSNR\"],results[\"PSNR_Fusion\"])\n",
    "plt.axline((25, 25), slope=1, color='r')\n",
    "plt.xlabel(\"Baseline PSNR\")\n",
    "plt.ylabel(\"Image Fusion PSNR\")"
   ]
  },
  {
   "cell_type": "code",
   "execution_count": 82,
   "id": "71774d68",
   "metadata": {},
   "outputs": [
    {
     "data": {
      "text/plain": [
       "<matplotlib.legend.Legend at 0x2085c495a30>"
      ]
     },
     "execution_count": 82,
     "metadata": {},
     "output_type": "execute_result"
    },
    {
     "data": {
      "image/png": "[encoded data removed]",
      "text/plain": [
       "<Figure size 432x288 with 1 Axes>"
      ]
     },
     "metadata": {
      "needs_background": "light"
     },
     "output_type": "display_data"
    }
   ],
   "source": [
    "means_fusion=[]\n",
    "means_base=[]\n",
    "for i in range(50): \n",
    "\n",
    "    mask=np.random.choice(24, 12)\n",
    "    means_fusion+=[np.mean(np.array(results[\"PSNR_Fusion\"])[mask])]\n",
    "    means_base+=[np.mean(np.array(results[\"B_PSNR\"])[mask])]\n",
    "\n",
    "plt.hist(means_base, bins=8, label=\"Baseline\")\n",
    "plt.hist(means_fusion, bins=8, label=\"Image_Fusion\")\n",
    "plt.ylabel(\"Frequency\")\n",
    "plt.xlabel(\"PSNR\")\n",
    "plt.legend()"
   ]
  },
  {
   "cell_type": "code",
   "execution_count": 84,
   "id": "479181e2",
   "metadata": {},
   "outputs": [
    {
     "name": "stdout",
     "output_type": "stream",
     "text": [
      "p value =  1.0 \n",
      "Null Hypothesis cannot be rejected. New method is not conclusively better\n"
     ]
    }
   ],
   "source": [
    "# Calculate t-statistic and p-value\n",
    "\n",
    "alpha = 0.05\n",
    "t, pval = ttest_rel(means_base, means_fusion,alternative = 'less')\n",
    "if pval < alpha:\n",
    "    print(\"p value = \", pval, \"\\nNull Hypothesis Rejected. New Method is better\")\n",
    "else: \n",
    "    print(\"p value = \", pval, \"\\nNull Hypothesis cannot be rejected. New method is not conclusively better\")"
   ]
  },
  {
   "cell_type": "code",
   "execution_count": null,
   "id": "8863d6e6",
   "metadata": {},
   "outputs": [],
   "source": []
  }
 ],
 "metadata": {
  "kernelspec": {
   "display_name": "Python 3 (ipykernel)",
   "language": "python",
   "name": "python3"
  },
  "language_info": {
   "codemirror_mode": {
    "name": "ipython",
    "version": 3
   },
   "file_extension": ".py",
   "mimetype": "text/x-python",
   "name": "python",
   "nbconvert_exporter": "python",
   "pygments_lexer": "ipython3",
   "version": "3.9.12"
  }
 },
 "nbformat": 4,
 "nbformat_minor": 5
}
